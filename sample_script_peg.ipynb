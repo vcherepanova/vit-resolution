{
 "cells": [
  {
   "cell_type": "code",
   "execution_count": 1,
   "metadata": {},
   "outputs": [
    {
     "name": "stdout",
     "output_type": "stream",
     "text": [
      "input size: torch.Size([4, 3, 224, 224])\n",
      "output size: torch.Size([4, 1000])\n"
     ]
    }
   ],
   "source": [
    "import timm\n",
    "from timm.models.vision_transformer import VisionTransformerPEG \n",
    "import torch\n",
    "\n",
    "\n",
    "kwargs = dict(patch_size=16, embed_dim=768, depth=12, num_heads=12)\n",
    "peg_idxs = [-1, 0, 1] \n",
    "# where to insert position encoding generator, \n",
    "# if it is -1, it is inserted before the first block\n",
    "# multiple position encoding generator can be inserted simultaneously\n",
    "peg_model = VisionTransformerPEG(peg_idxs, **kwargs)\n",
    "peg_model.eval()\n",
    "img = torch.zeros(4, 3, 224, 224)\n",
    "out = peg_model(img)\n",
    "print(f\"input size: {img.shape}\")\n",
    "print(f\"output size: {out.shape}\")\n"
   ]
  },
  {
   "cell_type": "code",
   "execution_count": 3,
   "metadata": {},
   "outputs": [
    {
     "data": {
      "text/plain": [
       "torch.Size([4, 1000])"
      ]
     },
     "execution_count": 3,
     "metadata": {},
     "output_type": "execute_result"
    }
   ],
   "source": [
    "out.shape"
   ]
  },
  {
   "cell_type": "code",
   "execution_count": null,
   "metadata": {},
   "outputs": [],
   "source": []
  }
 ],
 "metadata": {
  "kernelspec": {
   "display_name": "Python 3.9.12 ('pytorch1.11')",
   "language": "python",
   "name": "python3"
  },
  "language_info": {
   "codemirror_mode": {
    "name": "ipython",
    "version": 3
   },
   "file_extension": ".py",
   "mimetype": "text/x-python",
   "name": "python",
   "nbconvert_exporter": "python",
   "pygments_lexer": "ipython3",
   "version": "3.9.12"
  },
  "orig_nbformat": 4,
  "vscode": {
   "interpreter": {
    "hash": "6918d679773ec4b5baf70de02acbf2937a90bdf14ee7575f184a67084893d0ac"
   }
  }
 },
 "nbformat": 4,
 "nbformat_minor": 2
}
